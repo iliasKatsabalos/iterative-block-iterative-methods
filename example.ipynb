{
 "cells": [
  {
   "cell_type": "markdown",
   "source": [
    "# Numerical Optimization and Large Scale Linear Algebra "
   ],
   "metadata": {}
  },
  {
   "cell_type": "code",
   "execution_count": 25,
   "source": [
    "from jacobi import point_jacobi, block_jacobi\r\n",
    "from gauss_seidel import point_gauss_seidel, block_gauss_seidel\r\n",
    "from sor import SOR\r\n",
    "import numpy as np\r\n",
    "import pandas as pd\r\n",
    "from matplotlib import pyplot as plt\r\n",
    "from scipy.linalg import norm\r\n",
    "import seaborn as sns\r\n",
    "sns.set(palette='deep', color_codes=True, font_scale=1.3)\r\n",
    "import time"
   ],
   "outputs": [],
   "metadata": {}
  },
  {
   "cell_type": "markdown",
   "source": [
    "## 1. Table Creation\r\n",
    "We create the Discrete Poisson Equation on a 32 x 32 grid"
   ],
   "metadata": {}
  },
  {
   "cell_type": "code",
   "execution_count": 2,
   "source": [
    "n = 32\r\n",
    "T = np.zeros((n**2, n**2))\r\n",
    "\r\n",
    "diag_ind = np.diag_indices(n**2)\r\n",
    "T[diag_ind] = 4\r\n",
    "lo_diag_ind_rows, lo_diag_ind_columns = np.diag_indices(n**2 - 1)\r\n",
    "lo_diag_ind_rows = lo_diag_ind_rows + 1\r\n",
    "T[lo_diag_ind_rows, lo_diag_ind_columns] = -1\r\n",
    "\r\n",
    "up_diag_ind_rows, up_diag_ind_columns = np.diag_indices(n**2 - 1)\r\n",
    "up_diag_ind_columns = up_diag_ind_columns + 1\r\n",
    "T[up_diag_ind_rows, up_diag_ind_columns] = -1\r\n",
    "\r\n",
    "#lower identity\r\n",
    "for i in range(n, n**2, n):\r\n",
    "    T[i:i+n, i-n:i] = -1 * np.identity(n)\r\n",
    "\r\n",
    "#upper identity\r\n",
    "for i in range(0, n**2 -n, n):\r\n",
    "    T[i:i+n, i+n:i+2*n] = -1 * np.identity(n)\r\n",
    "\r\n",
    "b = np.ones(n ** 2)"
   ],
   "outputs": [],
   "metadata": {}
  },
  {
   "cell_type": "markdown",
   "source": [
    "## 2. Point Jacobi\r\n",
    "\r\n",
    "For the point jacobi method the iterative scheme is quite trivial and can be implemented in parallel with vectorized operations.\r\n",
    "We know that $$Dx^{k+1} = (L+U)x^k + b$$\r\n",
    "Since D is a diagonal table, we do not need to find the inverse using elmination. In fact, we calculate $$D^{-1} = [\\frac{1}{a_{11}}, \\frac{1}{a_{22}},..., \\frac{1}{a_{nn}}]$$\r\n",
    "\r\n",
    "where $D^{-1}$ is a vector containing the inverse of the diagonal elements of A. Then, we can rewrite the previous expressions as:\r\n",
    "$$x^{k+1} = ((L+U)x^k + b) * {D}^{-1}$$\r\n",
    "where $D^{-1} = [\\frac{1}{a_{11}}, \\frac{1}{a_{22}},..., \\frac{1}{a_{nn}}]$ and $((L+U)x^k + b) * {D}^{-1} $ performs an element wise multiplication."
   ],
   "metadata": {}
  },
  {
   "cell_type": "code",
   "execution_count": 6,
   "source": [
    "point_jacobi(A=T, b=b, precision=1e-4, max_iter=2000, verbose=True, return_iter=False)"
   ],
   "outputs": [
    {
     "output_type": "stream",
     "name": "stdout",
     "text": [
      "# found solutions [2.02652054 3.55317429 4.77782091 ... 4.77782041 3.55317424 2.02652036]\n",
      "# in 845 iterations in 0.8073599338531494 seconds\n",
      "# absolute relative error 9.959885568644902e-05\n"
     ]
    },
    {
     "output_type": "execute_result",
     "data": {
      "text/plain": [
       "array([2.02652054, 3.55317429, 4.77782091, ..., 4.77782041, 3.55317424,\n",
       "       2.02652036])"
      ]
     },
     "metadata": {},
     "execution_count": 6
    }
   ],
   "metadata": {}
  },
  {
   "cell_type": "markdown",
   "source": [
    "## 3. Parallel Block Jacobi\r\n",
    "\r\n",
    "The block jacobi method involves the split of the table A in blocks and then the solution of small systems, 2x2, 4x4, 8x8. We have the epxression:\r\n",
    "$$D_{block}x^{k+1}_{block} = (L_{block}+U_{block})x^k_{block} + b_{block}$$\r\n",
    "\r\n",
    "In more detail, with a block size 2x2 it is written as:\r\n",
    "\r\n",
    "$$\r\n",
    "  \\begin{bmatrix}\r\n",
    "    a_{11} & a_{12} & & & & & \\\\\r\n",
    "    a_{21} & a_{22} & & & & &\\\\\r\n",
    "    & & a_{33} & a_{34} & & &\\\\\r\n",
    "    & & a_{43} & a_{44} & & &\\\\\r\n",
    "    & & & & \\ddots& &\\\\\r\n",
    "    & & & & & &\\\\\r\n",
    "    & & & & &  a_{n-1, n-1} &  a_{n-1, n}\\\\\r\n",
    "    & & & & & a_{n, n-1} & a_{n, n}\\\\\r\n",
    "  \\end{bmatrix} \r\n",
    "  \\begin{bmatrix}\r\n",
    "      x_1^{k+1}\\\\ \r\n",
    "      x_2^{k+1}\\\\\r\n",
    "      x_3^{k+1}\\\\\r\n",
    "      x_4^{k+1}\\\\\r\n",
    "      \\\\\r\n",
    "      \\vdots\\\\\r\n",
    "      x_{n_1}^{k+1}\\\\\r\n",
    "      x_n^{k+1}\\\\\r\n",
    "      \\end{bmatrix}\r\n",
    "  = \r\n",
    "  \\begin{bmatrix}\r\n",
    "    0& 0& -a_{13} & -a_{14} & \\ldots & -a_{1n-1}&-a_{1n} \\\\\r\n",
    "    0& 0& -a_{23} &-a_{24} & \\ldots & -a_{2n-1}&-a_{2n} \\\\\r\n",
    "    -a_{31}& -a_{32}& & & & &\\\\\r\n",
    "    -a_{41}&-a_{42} & & & & &\\\\\r\n",
    "    \\vdots& \\vdots& & & \\ddots& &\\\\\r\n",
    "    \\vdots& \\vdots& & &\\ddots& & &\\\\\r\n",
    "    -a_{n-1,1}& -a_{n-1,2}& & & & 0&0\\\\\r\n",
    "    -a_{n1}&-a_{n,2} & & & & 0&0\\\\\r\n",
    "  \\end{bmatrix} \r\n",
    "    \\begin{bmatrix}\r\n",
    "      x_1^{k}\\\\ \r\n",
    "      x_2^{k}\\\\\r\n",
    "      x_3^{k}\\\\\r\n",
    "      x_4^{k}\\\\\r\n",
    "      \\\\\r\n",
    "      \\vdots\\\\\r\n",
    "      x_{n_1}^{k}\\\\\r\n",
    "      x_n^{k}\\\\\r\n",
    "      \\end{bmatrix}\r\n",
    "    + \r\n",
    "    \\begin{bmatrix}\r\n",
    "      b_1^{k}\\\\ \r\n",
    "      b_2^{k}\\\\\r\n",
    "      b_3^{k}\\\\\r\n",
    "      b_4^{k}\\\\\r\n",
    "      \\\\\r\n",
    "      \\vdots\\\\\r\n",
    "      b_{n_1}^{k}\\\\\r\n",
    "      b_n^{k}\\\\\r\n",
    "      \\end{bmatrix}\r\n",
    "  $$\r\n",
    "\r\n",
    "Executing the operations on the right hand side of the system we have:\r\n",
    "\r\n",
    "$$\r\n",
    "  \\begin{bmatrix}\r\n",
    "    a_{11} & a_{12} & & & & & \\\\\r\n",
    "    a_{21} & a_{22} & & & & &\\\\\r\n",
    "    & & a_{33} & a_{34} & & &\\\\\r\n",
    "    & & a_{43} & a_{44} & & &\\\\\r\n",
    "    & & & & \\ddots& &\\\\\r\n",
    "    & & & & & &\\\\\r\n",
    "    & & & & &  a_{n-1, n-1} &  a_{n-1, n}\\\\\r\n",
    "    & & & & & a_{n, n-1} & a_{n, n}\\\\\r\n",
    "  \\end{bmatrix} \r\n",
    "  \\begin{bmatrix}\r\n",
    "      x_1^{k+1}\\\\ \r\n",
    "      x_2^{k+1}\\\\\r\n",
    "      x_3^{k+1}\\\\\r\n",
    "      x_4^{k+1}\\\\\r\n",
    "      \\\\\r\n",
    "      \\vdots\\\\\r\n",
    "      x_{n_1}^{k+1}\\\\\r\n",
    "      x_n^{k+1}\\\\\r\n",
    "      \\end{bmatrix}\r\n",
    "  = \r\n",
    "    \\begin{bmatrix}\r\n",
    "      \\hat{b_1}^{k}\\\\ \r\n",
    "      \\hat{b_2}^{k}\\\\\r\n",
    "      \\hat{b_3}^{k}\\\\\r\n",
    "      \\hat{b_4}^{k}\\\\\r\n",
    "      \\\\\r\n",
    "      \\vdots\\\\\r\n",
    "      \\hat{b_{n_1}}^{k}\\\\\r\n",
    "      \\hat{b_n^{k}}\\\\\r\n",
    "      \\end{bmatrix}\r\n",
    "  $$\r\n",
    "\r\n",
    "In our example we have a block size of 2x2 so for each iteration of the jacobi we have to solve the block systems of the form:\r\n",
    "\r\n",
    "$$\r\n",
    "  \\begin{bmatrix}\r\n",
    "    a_{ii} & a_{ii+1}\\\\\r\n",
    "    a_{i+1i} & a_{i+1i+1}\\\\\r\n",
    "  \\end{bmatrix} \r\n",
    "  \\begin{bmatrix}\r\n",
    "      x_i^{k+1}\\\\ \r\n",
    "      x_i+1^{k+1}\\\\\r\n",
    "      \\end{bmatrix}\r\n",
    "  = \r\n",
    "    \\begin{bmatrix}\r\n",
    "      \\hat{b_i}^{k}\\\\ \r\n",
    "      \\hat{b_{i+1}}^{k}\\\\\r\n",
    "      \\end{bmatrix}\r\n",
    "  $$\r\n",
    "  \r\n",
    "In the implementation the block systems are solved in parallel. In order to do this, the matrix has been reshaped to 3-dimensional table `D_blocked`, with dimensions (p, block size, block size) where p = n/block size. Then by acceessing the elements `D_blocked[:, i, i]` we access the pivot elements of all the blocks simultaneously. Since we have the pivot elements, we  proceed in implementing Gauss Jordan elimination is parallel for all the blocks."
   ],
   "metadata": {}
  },
  {
   "cell_type": "code",
   "execution_count": 7,
   "source": [
    "block_jacobi(A=T, b=b, block_size=2, precision=1e-4, max_iter=5000, verbose=True, return_iter=False)"
   ],
   "outputs": [
    {
     "output_type": "stream",
     "name": "stdout",
     "text": [
      "# found solutions [2.03065782 3.56135511 4.79001214 ... 4.790012   3.56135533 2.03065793]\n",
      "# in 679 iterations in 0.5916814804077148 seconds\n",
      "# absolute relative error 9.962712384460994e-05\n"
     ]
    }
   ],
   "metadata": {}
  },
  {
   "cell_type": "markdown",
   "source": [
    "## Gauss - Seidel\r\n",
    "\r\n",
    "The Gauss-Seidel method is slightly different from the Jacobi method. Here the system that we are asked to solve is:\r\n",
    "$$(D-L)x^{k+1} = Ux^k + b$$\r\n",
    "\r\n",
    "where D-L is a lower triangular table. As a result the system can be solved with forward substitution."
   ],
   "metadata": {}
  },
  {
   "cell_type": "code",
   "execution_count": 9,
   "source": [
    "point_gauss_seidel(A=T, b=b, precision=1e-4, max_iter=2000, verbose=True, return_iter=True)"
   ],
   "outputs": [
    {
     "output_type": "stream",
     "name": "stdout",
     "text": [
      "# found solutions [2.03366421 3.5675102  4.79926302 ... 4.80609483 3.57225873 2.03612937]\n",
      "# in 497 iterations in 2.8112711906433105 seconds\n",
      "# absolute relative error 9.94696418354892e-05\n"
     ]
    },
    {
     "output_type": "execute_result",
     "data": {
      "text/plain": [
       "(array([2.03366421, 3.5675102 , 4.79926302, ..., 4.80609483, 3.57225873,\n",
       "        2.03612937]),\n",
       " 497)"
      ]
     },
     "metadata": {},
     "execution_count": 9
    }
   ],
   "metadata": {}
  },
  {
   "cell_type": "markdown",
   "source": [
    "## Block Gauss Seidel\r\n",
    "\r\n",
    "This method has similar mentality with the block jacobi method. The matrix `A` and the vectors `x` and `b` are split into blocks. We perform a forward substitution but for each iteration, a smaller system needs to be solved. Here, we cannot avoid the iterative nature of the problem thus we cannot proceed in solving the systems in parallel, since for each block $[x_i, x_{i+1}]$ the previous block of x $[x_{i-1}, x_{i-2}]$ must have been already calculated.\r\n",
    "\r\n",
    "For solving the block systems I used the `solve` method from scipy. An interesting implementation of the gaussian elimination for solving multiple systems in parallel was implemented in the block Jacobi method."
   ],
   "metadata": {}
  },
  {
   "cell_type": "code",
   "execution_count": 11,
   "source": [
    "block_gauss_seidel(A=T, b=b, block_size=2, precision=1e-4, max_iter=5000, verbose=True, return_iter=False)"
   ],
   "outputs": [
    {
     "output_type": "stream",
     "name": "stdout",
     "text": [
      "# found solutions [2.03616235 3.57234754 4.80648742 ... 4.81169985 3.5760128  2.03799775]\n",
      "# in 396 iterations in 13.048820972442627 seconds\n",
      "# absolute relative error 9.997583057223468e-05\n"
     ]
    },
    {
     "output_type": "execute_result",
     "data": {
      "text/plain": [
       "array([2.03616235, 3.57234754, 4.80648742, ..., 4.81169985, 3.5760128 ,\n",
       "       2.03799775])"
      ]
     },
     "metadata": {},
     "execution_count": 11
    }
   ],
   "metadata": {}
  },
  {
   "cell_type": "markdown",
   "source": [
    "## 2. Performance Comparison\n",
    "In order to compare the performance of the iterative methods, we will perform 3 runs of each and extract an average, in order to have a stable result in case of fluctuations. Additionally, we will execute the functions with the same amount of required precision in order to compare them on an equal basis."
   ],
   "metadata": {}
  },
  {
   "cell_type": "code",
   "execution_count": 14,
   "source": [
    "def comparison_diagnostics(solver, name, *args):\r\n",
    "    runtime = []\r\n",
    "    errors = []\r\n",
    "    runs = 3\r\n",
    "    for i in range(runs):\r\n",
    "        start_time = time.time()\r\n",
    "        res = solver(*args)\r\n",
    "        end_time = time.time()\r\n",
    "        runtime.append(end_time - start_time)\r\n",
    "        b_hat = T @ res\r\n",
    "        error = norm(b - b_hat) / norm(b)\r\n",
    "        errors.append(error)\r\n",
    "    df = pd.DataFrame({'runtime':runtime, 'error':error})\r\n",
    "    df['solver'] = name\r\n",
    "    return df"
   ],
   "outputs": [],
   "metadata": {}
  },
  {
   "cell_type": "code",
   "execution_count": 16,
   "source": [
    "point_jacobi = comparison_diagnostics(point_jacobi, 'point_jacobi', T, b, 10**(-5), 10**6)"
   ],
   "outputs": [],
   "metadata": {}
  },
  {
   "cell_type": "code",
   "execution_count": 15,
   "source": [
    "parallel_jacobi_2_block = comparison_diagnostics(block_jacobi, 'block_jacobi_2_block', T, b, 2, 10**(-5), 10**6)\r\n",
    "parallel_jacobi_4_block = comparison_diagnostics(block_jacobi, 'block_jacobi_4_block', T, b, 4, 10**(-5), 10**6)\r\n",
    "parallel_jacobi_8_block = comparison_diagnostics(block_jacobi, 'block_jacobi_8_block', T, b, 8, 10**(-5), 10**6)"
   ],
   "outputs": [],
   "metadata": {}
  },
  {
   "cell_type": "code",
   "execution_count": 17,
   "source": [
    "point_gauss_seidel = comparison_diagnostics(point_gauss_seidel, 'point_gauss_seidel', T, b, 10**(-5), 10**6)"
   ],
   "outputs": [],
   "metadata": {}
  },
  {
   "cell_type": "code",
   "execution_count": 18,
   "source": [
    "gauss_seidel_2_block = comparison_diagnostics(block_gauss_seidel, 'block_gauss_seidel_2_block', T, b, 2, 10**(-5), 10**6)\r\n",
    "gauss_seidel_4_block = comparison_diagnostics(block_gauss_seidel, 'block_gauss_seidel_4_block', T, b, 4, 10**(-5), 10**6)\r\n",
    "gauss_seidel_8_block = comparison_diagnostics(block_gauss_seidel, 'block_gauss_seidel_8_block', T, b, 8, 10**(-5), 10**6)"
   ],
   "outputs": [],
   "metadata": {}
  },
  {
   "cell_type": "code",
   "execution_count": 19,
   "source": [
    "comparisons = pd.concat([\r\n",
    "    point_jacobi\r\n",
    "    ,parallel_jacobi_2_block\r\n",
    "    ,parallel_jacobi_4_block\r\n",
    "    ,parallel_jacobi_8_block\r\n",
    "    ,point_gauss_seidel\r\n",
    "    ,gauss_seidel_2_block\r\n",
    "    ,gauss_seidel_4_block\r\n",
    "    ,gauss_seidel_8_block\r\n",
    "])\r\n",
    "\r\n",
    "agg = comparisons.groupby('solver').agg(avg_runtime = ('runtime', np.mean), error = ('error', np.mean)).reset_index()\r\n",
    "agg.sort_values(by='avg_runtime', ascending=False, inplace=True)\r\n",
    "agg"
   ],
   "outputs": [
    {
     "output_type": "execute_result",
     "data": {
      "text/html": [
       "<div>\n",
       "<style scoped>\n",
       "    .dataframe tbody tr th:only-of-type {\n",
       "        vertical-align: middle;\n",
       "    }\n",
       "\n",
       "    .dataframe tbody tr th {\n",
       "        vertical-align: top;\n",
       "    }\n",
       "\n",
       "    .dataframe thead th {\n",
       "        text-align: right;\n",
       "    }\n",
       "</style>\n",
       "<table border=\"1\" class=\"dataframe\">\n",
       "  <thead>\n",
       "    <tr style=\"text-align: right;\">\n",
       "      <th></th>\n",
       "      <th>solver</th>\n",
       "      <th>avg_runtime</th>\n",
       "      <th>error</th>\n",
       "    </tr>\n",
       "  </thead>\n",
       "  <tbody>\n",
       "    <tr>\n",
       "      <th>0</th>\n",
       "      <td>block_gauss_seidel_2_block</td>\n",
       "      <td>18.355171</td>\n",
       "      <td>0.000728</td>\n",
       "    </tr>\n",
       "    <tr>\n",
       "      <th>1</th>\n",
       "      <td>block_gauss_seidel_4_block</td>\n",
       "      <td>8.834194</td>\n",
       "      <td>0.000611</td>\n",
       "    </tr>\n",
       "    <tr>\n",
       "      <th>6</th>\n",
       "      <td>point_gauss_seidel</td>\n",
       "      <td>4.436030</td>\n",
       "      <td>0.000923</td>\n",
       "    </tr>\n",
       "    <tr>\n",
       "      <th>2</th>\n",
       "      <td>block_gauss_seidel_8_block</td>\n",
       "      <td>4.181077</td>\n",
       "      <td>0.000539</td>\n",
       "    </tr>\n",
       "    <tr>\n",
       "      <th>5</th>\n",
       "      <td>block_jacobi_8_block</td>\n",
       "      <td>1.491510</td>\n",
       "      <td>0.001054</td>\n",
       "    </tr>\n",
       "    <tr>\n",
       "      <th>3</th>\n",
       "      <td>block_jacobi_2_block</td>\n",
       "      <td>1.179013</td>\n",
       "      <td>0.001379</td>\n",
       "    </tr>\n",
       "    <tr>\n",
       "      <th>7</th>\n",
       "      <td>point_jacobi</td>\n",
       "      <td>1.140878</td>\n",
       "      <td>0.001839</td>\n",
       "    </tr>\n",
       "    <tr>\n",
       "      <th>4</th>\n",
       "      <td>block_jacobi_4_block</td>\n",
       "      <td>0.958103</td>\n",
       "      <td>0.001166</td>\n",
       "    </tr>\n",
       "  </tbody>\n",
       "</table>\n",
       "</div>"
      ],
      "text/plain": [
       "                       solver  avg_runtime     error\n",
       "0  block_gauss_seidel_2_block    18.355171  0.000728\n",
       "1  block_gauss_seidel_4_block     8.834194  0.000611\n",
       "6          point_gauss_seidel     4.436030  0.000923\n",
       "2  block_gauss_seidel_8_block     4.181077  0.000539\n",
       "5        block_jacobi_8_block     1.491510  0.001054\n",
       "3        block_jacobi_2_block     1.179013  0.001379\n",
       "7                point_jacobi     1.140878  0.001839\n",
       "4        block_jacobi_4_block     0.958103  0.001166"
      ]
     },
     "metadata": {},
     "execution_count": 19
    }
   ],
   "metadata": {}
  },
  {
   "cell_type": "code",
   "execution_count": 21,
   "source": [
    "fig, axs = plt.subplots(1,2, figsize=(16,6))\r\n",
    "fig.subplots_adjust(wspace=0.8)\r\n",
    "\r\n",
    "\r\n",
    "sns.barplot(x='avg_runtime', y='solver', data=agg, color='grey', ax=axs[0])\r\n",
    "axs[0].set_xlabel('Avg Runtime (sec)')\r\n",
    "axs[0].title.set_text('Avg Runtime for 3 executions')\r\n",
    "\r\n",
    "sns.barplot(x='error', y='solver', data=agg, color='grey', ax=axs[1])\r\n",
    "axs[1].set_xlabel('Error')\r\n",
    "axs[1].title.set_text('Reconstruction Absolute Relative Error $||A\\hat{x} - b|| / ||b\\||$')\r\n",
    "plt.show()"
   ],
   "outputs": [
    {
     "output_type": "display_data",
     "data": {
      "image/png": "[encoded data removed]",
      "text/plain": [
       "<Figure size 1152x432 with 2 Axes>"
      ]
     },
     "metadata": {}
    }
   ],
   "metadata": {}
  },
  {
   "cell_type": "markdown",
   "source": [
    "Looking at the runtime results we can observe the following:\r\n",
    "\r\n",
    "* The fastest methods are the point Jacobi as well as the block jacobi with ~1 second of average runtime\r\n",
    "* The slowest method is the block gauss seidel where the block size is 2x2\r\n",
    "* Jacobi methods seem to have a faster runtime, although the relative erros when recalculating b are larger than those of the Gauss Seidel methods\r\n",
    "\r\n",
    "The Jacobi methods are faster in our case because:\r\n",
    "\r\n",
    "* the point Jacobi uses vectorized operations, avoiding unecessary loops\r\n",
    "* the block Jacobi method solves the block systems with Gaussian Elimination `in parallel`, so the for loop has a fixed number of iterations depending on the block size."
   ],
   "metadata": {}
  },
  {
   "cell_type": "markdown",
   "source": [
    "## 3. SOR\n",
    "\n",
    "The Successive overelaxation method is similar to the Gauss Seidel method. In this method, the parameter $\\omega$ is introduced such as: $$\\frac{1}{\\omega}(D - \\omega L) x^{k+1} = (\\frac{(1-\\omega)}{\\omega}D + U) x^k + b$$. Similarly to the Gauss Seidel method, the matrix $\\frac{1}{\\omega}(D - \\omega L) $ is lower triangular thus the solution involves a forward substitution for each iteration."
   ],
   "metadata": {}
  },
  {
   "cell_type": "code",
   "execution_count": 27,
   "source": [
    "SOR(A=T, b=b, omega=1.8, precision=1e-4, max_iter=5000, verbose=True, return_iter=False)"
   ],
   "outputs": [
    {
     "output_type": "stream",
     "name": "stdout",
     "text": [
      "# found solutions [2.04091022 3.58213361 4.82131825 ... 4.8284834  3.5872406  2.04362538]\n",
      "# in 72 iterations in 0.6521248817443848 seconds\n",
      "# absolute relative error 9.106660659458227e-05\n"
     ]
    },
    {
     "output_type": "execute_result",
     "data": {
      "text/plain": [
       "array([2.04091022, 3.58213361, 4.82131825, ..., 4.8284834 , 3.5872406 ,\n",
       "       2.04362538])"
      ]
     },
     "metadata": {},
     "execution_count": 27
    }
   ],
   "metadata": {}
  },
  {
   "cell_type": "markdown",
   "source": [
    "Then we need to find the $\\omega_{opt}$"
   ],
   "metadata": {}
  },
  {
   "cell_type": "code",
   "execution_count": 28,
   "source": [
    "from tqdm import tqdm\r\n",
    "\r\n",
    "runtimes = []\r\n",
    "errors = []\r\n",
    "omegas = np.arange(1,1.96,0.05)\r\n",
    "iterations = []\r\n",
    "for omega in tqdm(omegas):\r\n",
    "    start_time = time.time()\r\n",
    "    res, iter_ = SOR(T, b, omega=omega, verbose=False, max_iter=10000, return_iter=True)\r\n",
    "    end_time = time.time()\r\n",
    "    b_hat = T @ res\r\n",
    "    error = norm(b - b_hat) / norm(b)\r\n",
    "    errors.append(error)\r\n",
    "    runtimes.append(end_time - start_time)\r\n",
    "    iterations.append(iter_)"
   ],
   "outputs": [
    {
     "output_type": "stream",
     "name": "stderr",
     "text": [
      "100%|██████████| 20/20 [00:50<00:00,  2.52s/it]\n"
     ]
    }
   ],
   "metadata": {}
  },
  {
   "cell_type": "code",
   "execution_count": 29,
   "source": [
    "sor_results = pd.DataFrame({\r\n",
    "    'omega': omegas\r\n",
    "    ,'runtime': runtimes\r\n",
    "    ,'error': errors\r\n",
    "    ,'iterations': iterations\r\n",
    "    \r\n",
    "})\r\n",
    "\r\n",
    "fig, axs = plt.subplots(figsize=(8,6))\r\n",
    "sns.lineplot(sor_results.omega, sor_results.iterations)\r\n",
    "plt.title('No Iterations over different relaxation parameter $\\omega$')\r\n",
    "plt.show()\r\n",
    "\r\n",
    "opt_index = sor_results.iterations.idxmin()\r\n",
    "w_opt_range = sor_results.iloc[opt_index-1: opt_index+2].omega\r\n",
    "min_iterations = sor_results.iloc[sor_results.iterations.idxmin()].iterations\r\n",
    "print(f'omega optimum between {w_opt_range.min()} and {w_opt_range.max()} ran over {min_iterations} iterations')"
   ],
   "outputs": [
    {
     "output_type": "stream",
     "name": "stderr",
     "text": [
      "C:\\Users\\ikats\\anaconda3\\lib\\site-packages\\seaborn\\_decorators.py:36: FutureWarning: Pass the following variables as keyword args: x, y. From version 0.12, the only valid positional argument will be `data`, and passing other arguments without an explicit keyword will result in an error or misinterpretation.\n",
      "  warnings.warn(\n"
     ]
    },
    {
     "output_type": "display_data",
     "data": {
      "image/png": "[encoded data removed]",
      "text/plain": [
       "<Figure size 576x432 with 1 Axes>"
      ]
     },
     "metadata": {}
    },
    {
     "output_type": "stream",
     "name": "stdout",
     "text": [
      "omega optimum between 1.8000000000000007 and 1.9000000000000008 ran over 84.0 iterations\n"
     ]
    }
   ],
   "metadata": {}
  },
  {
   "cell_type": "markdown",
   "source": [
    "\r\n",
    "From the theorem `3.8` from \"Numerical Linear Algebra\" (Dougalis, Noutsos, Hatzidimos) we know that\r\n",
    "\r\n",
    "$$\\omega_{opt} = \\frac{2}{1+\\sqrt{1+\\beta^2}}$$\r\n",
    "where $$\\beta = \\rho(T_{jacobi})$$\r\n",
    "\r\n",
    "as long as the table is-two cyclic and $\\beta = \\rho(T_{jacobi}) < 1$ or in other words the Jacobi method converges. We already know that the Jacobi method converges since `T` is a diagonally dominant matrix, meaning that the sum of non diagonal elements is less than the diagonal element. We also know, from the definition, that `T` is a block tridiagonal matrix which by definition is a two-cyclic matrix. Since all the conditions of the theorem are satisfied and assuming that we know analytically the eigenvalues of $T_{jacobi}$ we have:"
   ],
   "metadata": {}
  },
  {
   "cell_type": "code",
   "execution_count": 4,
   "source": [
    "from scipy.linalg import eigvals\r\n",
    "\r\n",
    "#calculate the T jacobi table\r\n",
    "D = T * np.identity(len(T))\r\n",
    "D_inv = np.diag(1/np.diag(D))\r\n",
    "L = -np.tril(T, -1)\r\n",
    "U = -np.triu(T, 1)\r\n",
    "T_jacobi = D_inv @ (L+U)"
   ],
   "outputs": [],
   "metadata": {}
  },
  {
   "cell_type": "code",
   "execution_count": 5,
   "source": [
    "# find the eigenvalues and keep the one with the maximum absolute value\r\n",
    "ev  = eigvals(T_jacobi)\r\n",
    "sr = max(abs(ev))"
   ],
   "outputs": [],
   "metadata": {}
  },
  {
   "cell_type": "code",
   "execution_count": 6,
   "source": [
    "omega_opt = 2 / (1+np.sqrt(1-sr**2))\r\n",
    "print (f'optimum omega: {omega_opt}')"
   ],
   "outputs": [
    {
     "output_type": "stream",
     "name": "stdout",
     "text": [
      "optimum omega: 1.8263905415884794\n"
     ]
    }
   ],
   "metadata": {}
  },
  {
   "cell_type": "markdown",
   "source": [
    "Indeed the optimum $\\omega$ falls between the range observed when we tried to approach it experimentally."
   ],
   "metadata": {}
  },
  {
   "cell_type": "markdown",
   "source": [
    "## 4. $\\omega_{opt}$\n",
    "We know from the theorem of Kahan that in order for the SOR method to converge we need:\n",
    "$$|\\omega-1|<1$$\n",
    "\n",
    "Also from our experimental results, we observed that values greater than the optimum $\\omega$ converged much faster than values less than optimum $\\omega$. As a results, based on our findings, it is better to overestimate $\\omega$, always in the range defined by Kahan's theorem, otherwise the system will not converge."
   ],
   "metadata": {}
  }
 ],
 "metadata": {
  "kernelspec": {
   "name": "python3",
   "display_name": "Python 3.8.5 64-bit ('base': conda)"
  },
  "language_info": {
   "codemirror_mode": {
    "name": "ipython",
    "version": 3
   },
   "file_extension": ".py",
   "mimetype": "text/x-python",
   "name": "python",
   "nbconvert_exporter": "python",
   "pygments_lexer": "ipython3",
   "version": "3.8.5"
  },
  "interpreter": {
   "hash": "82fa29f2a1b03e9059a621336328fa6224c53d91aa0f81518b88e1a2bd241e35"
  }
 },
 "nbformat": 4,
 "nbformat_minor": 4
}